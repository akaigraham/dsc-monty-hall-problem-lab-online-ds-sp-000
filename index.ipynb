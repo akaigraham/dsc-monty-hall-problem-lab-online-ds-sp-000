{
 "cells": [
  {
   "cell_type": "markdown",
   "metadata": {},
   "source": [
    "# The Monty Hall Problem\n",
    "\n",
    "## Introduction\n",
    "\n",
    "The Monty Hall problem is a famous little puzzle from a game show. It goes like this: you are presented with 3 doors. Behind two are goats and behind the third is a car. You are asked to select a door; if you select the door with the car, you win! After selecting, the host then opens one of the remaining two doors, revealing a goat. The host then asks if you would like to switch doors or stick with your original choice. What would you do? Does it matter?\n",
    "\n",
    "<img src=\"images/Image_58_MontyHall.png\">\n",
    "\n",
    "## Objectives\n",
    "\n",
    "In this lab you will:\n",
    "\n",
    "- Use Bayes' theorem along with a simulation to solve the Monty Hall problem"
   ]
  },
  {
   "cell_type": "markdown",
   "metadata": {},
   "source": [
    "## Run a simulation\n",
    "\n",
    "This is not a traditional application of Bayes' theorem, so trying to formulate the problem as such is tricky at best. That said, the scenario does capture the motivating conception behind Bayesian statistics: updating our beliefs in the face of additional evidence. With this, you'll employ another frequently used tool Bayesians frequently employ, running simulations. To do this, generate a random integer between one and three to represent the door hiding the car. Then, generate a second integer between one and three representing the player's selection. Then, of those the contestant did not choose, select a door concealing a goat to reveal. Record the results of the simulated game if they changed versus if they did not. Repeat this process a thousand (or more) times. Finally, plot the results of your simulation as a line graph. The x-axis should be the number of simulations, and the y-axis should be the probability of winning. (There should be two lines on the graph, one for switching doors, and the other for keeping the original selection.)"
   ]
  },
  {
   "cell_type": "code",
   "execution_count": 36,
   "metadata": {},
   "outputs": [],
   "source": [
    "# Your code here\n",
    "import numpy as np\n",
    "import matplotlib.pyplot as plt\n",
    "import seaborn as sns\n",
    "%matplotlib inline"
   ]
  },
  {
   "cell_type": "code",
   "execution_count": 37,
   "metadata": {},
   "outputs": [
    {
     "name": "stdout",
     "output_type": "stream",
     "text": [
      "3 1\n"
     ]
    }
   ],
   "source": [
    "doors = [1, 2, 3]\n",
    "car = np.random.randint(1, 4)\n",
    "player_selection = np.random.randint(1, 4)\n",
    "print(car, player_selection)"
   ]
  },
  {
   "cell_type": "code",
   "execution_count": 38,
   "metadata": {},
   "outputs": [
    {
     "name": "stdout",
     "output_type": "stream",
     "text": [
      "Player selection: 1\n",
      "Car door: 3\n",
      "Goats Remaining: [2]\n",
      "Door Revealed: 2\n",
      "3\n"
     ]
    }
   ],
   "source": [
    "remaining_goats = [door for door in doors if door != car and door != player_selection] # goats not chosen (all doors less car and chosen door)\n",
    "door_revealed = np.random.choice(remaining_goats) #door that is revealed to have a goat\n",
    "switched = [door for door in doors if door != player_selection and door != door_revealed][0] #switch to win\n",
    "\n",
    "print(f'Player selection: {player_selection}')\n",
    "print(f'Car door: {car}')\n",
    "print(f'Goats Remaining: {remaining_goats}')\n",
    "print(f'Door Revealed: {door_revealed}')\n",
    "print(switched)"
   ]
  },
  {
   "cell_type": "code",
   "execution_count": 52,
   "metadata": {},
   "outputs": [
    {
     "name": "stdout",
     "output_type": "stream",
     "text": [
      "Simulated Probability of Winning\n",
      "Stay: 0.338\n",
      "Switch: 0.662\n"
     ]
    },
    {
     "data": {
      "image/png": "[encoded data removed]",
      "text/plain": [
       "<Figure size 432x288 with 1 Axes>"
      ]
     },
     "metadata": {
      "needs_background": "light"
     },
     "output_type": "display_data"
    }
   ],
   "source": [
    "np.random.seed(1)\n",
    "\n",
    "switch = []\n",
    "stay = []\n",
    "for i in range(1, 1001):\n",
    "    car = np.random.randint(1, 4)\n",
    "    player_selection = np.random.randint(1, 4)\n",
    "    remaining_goats = [door for door in doors if door != car and door != player_selection]\n",
    "    door_revealed = np.random.choice(remaining_goats)\n",
    "    switched_door = [door for door in doors if door != player_selection and door != door_revealed][0]\n",
    "    \n",
    "    # check if the switched door is the car door\n",
    "    if switched_door == car:\n",
    "        switch.append(1)\n",
    "    else:\n",
    "        switch.append(0)\n",
    "        \n",
    "    if player_selection == car:\n",
    "        stay.append(1)\n",
    "    else:\n",
    "        stay.append(0)\n",
    "    \n",
    "    switch_prob = len(switch) / i\n",
    "    stay_prob = len(stay) / i\n",
    "    \n",
    "plt.plot(np.arange(1, 1001), [np.mean(switch[:i]) for i in range(1, 1001)], label=\"Switch Doors\")\n",
    "plt.plot(np.arange(1, 1001), [np.mean(stay[:i]) for i in range(1, 1001)], label=\"Do not switch\")\n",
    "plt.legend()\n",
    "plt.xlabel('Simulations')\n",
    "plt.ylabel('Probability of Winning')\n",
    "print('Simulated Probability of Winning')\n",
    "print(f'Stay: {np.mean(stay)}')\n",
    "print(f'Switch: {np.mean(switch)}')"
   ]
  },
  {
   "cell_type": "markdown",
   "metadata": {},
   "source": [
    "## Summary\n",
    "\n",
    "In this lab, you further investigated the idea of Bayes' theorem and Bayesian statistics in general through the Monty Hall problem. Hopefully, this was an entertaining little experience! "
   ]
  }
 ],
 "metadata": {
  "kernelspec": {
   "display_name": "Python 3",
   "language": "python",
   "name": "python3"
  },
  "language_info": {
   "codemirror_mode": {
    "name": "ipython",
    "version": 3
   },
   "file_extension": ".py",
   "mimetype": "text/x-python",
   "name": "python",
   "nbconvert_exporter": "python",
   "pygments_lexer": "ipython3",
   "version": "3.6.9"
  },
  "toc": {
   "base_numbering": 1,
   "nav_menu": {},
   "number_sections": true,
   "sideBar": true,
   "skip_h1_title": false,
   "title_cell": "Table of Contents",
   "title_sidebar": "Contents",
   "toc_cell": false,
   "toc_position": {},
   "toc_section_display": true,
   "toc_window_display": false
  }
 },
 "nbformat": 4,
 "nbformat_minor": 2
}
